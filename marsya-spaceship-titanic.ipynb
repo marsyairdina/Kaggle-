{
 "cells": [
  {
   "cell_type": "code",
   "execution_count": 1,
   "id": "e7e65f10",
   "metadata": {
    "_cell_guid": "b1076dfc-b9ad-4769-8c92-a6c4dae69d19",
    "_uuid": "8f2839f25d086af736a60e9eeb907d3b93b6e0e5",
    "execution": {
     "iopub.execute_input": "2022-10-21T14:15:49.236763Z",
     "iopub.status.busy": "2022-10-21T14:15:49.236300Z",
     "iopub.status.idle": "2022-10-21T14:15:49.248533Z",
     "shell.execute_reply": "2022-10-21T14:15:49.247608Z"
    },
    "papermill": {
     "duration": 0.026755,
     "end_time": "2022-10-21T14:15:49.250883",
     "exception": false,
     "start_time": "2022-10-21T14:15:49.224128",
     "status": "completed"
    },
    "tags": []
   },
   "outputs": [
    {
     "name": "stdout",
     "output_type": "stream",
     "text": [
      "/kaggle/input/spaceship-titanic/sample_submission.csv\n",
      "/kaggle/input/spaceship-titanic/train.csv\n",
      "/kaggle/input/spaceship-titanic/test.csv\n"
     ]
    }
   ],
   "source": [
    "# This Python 3 environment comes with many helpful analytics libraries installed\n",
    "# It is defined by the kaggle/python Docker image: https://github.com/kaggle/docker-python\n",
    "# For example, here's several helpful packages to load\n",
    "\n",
    "import numpy as np # linear algebra\n",
    "import pandas as pd # data processing, CSV file I/O (e.g. pd.read_csv)\n",
    "\n",
    "# Input data files are available in the read-only \"../input/\" directory\n",
    "# For example, running this (by clicking run or pressing Shift+Enter) will list all files under the input directory\n",
    "\n",
    "import os\n",
    "for dirname, _, filenames in os.walk('/kaggle/input'):\n",
    "    for filename in filenames:\n",
    "        print(os.path.join(dirname, filename))\n",
    "\n",
    "# You can write up to 20GB to the current directory (/kaggle/working/) that gets preserved as output when you create a version using \"Save & Run All\" \n",
    "# You can also write temporary files to /kaggle/temp/, but they won't be saved outside of the current session"
   ]
  },
  {
   "cell_type": "code",
   "execution_count": 2,
   "id": "4693a828",
   "metadata": {
    "execution": {
     "iopub.execute_input": "2022-10-21T14:15:49.266152Z",
     "iopub.status.busy": "2022-10-21T14:15:49.265566Z",
     "iopub.status.idle": "2022-10-21T14:15:49.338814Z",
     "shell.execute_reply": "2022-10-21T14:15:49.337965Z"
    },
    "papermill": {
     "duration": 0.083265,
     "end_time": "2022-10-21T14:15:49.340915",
     "exception": false,
     "start_time": "2022-10-21T14:15:49.257650",
     "status": "completed"
    },
    "tags": []
   },
   "outputs": [
    {
     "name": "stdout",
     "output_type": "stream",
     "text": [
      "Done\n"
     ]
    }
   ],
   "source": [
    "#LOAD DATA\n",
    "train = pd.read_csv('../input/spaceship-titanic/train.csv')\n",
    "test = pd.read_csv('../input/spaceship-titanic/test.csv')\n",
    "print(\"Done\")"
   ]
  },
  {
   "cell_type": "code",
   "execution_count": 3,
   "id": "a1e28310",
   "metadata": {
    "execution": {
     "iopub.execute_input": "2022-10-21T14:15:49.355519Z",
     "iopub.status.busy": "2022-10-21T14:15:49.355056Z",
     "iopub.status.idle": "2022-10-21T14:15:49.359952Z",
     "shell.execute_reply": "2022-10-21T14:15:49.359258Z"
    },
    "papermill": {
     "duration": 0.01478,
     "end_time": "2022-10-21T14:15:49.362163",
     "exception": false,
     "start_time": "2022-10-21T14:15:49.347383",
     "status": "completed"
    },
    "tags": []
   },
   "outputs": [
    {
     "name": "stdout",
     "output_type": "stream",
     "text": [
      "Shape of training data is(8693, 14)\n",
      "Shape of training data is(4277, 13)\n"
     ]
    }
   ],
   "source": [
    "#INSPECT DATA\n",
    "print(\"Shape of training data is\"+str(train.shape))\n",
    "print(\"Shape of training data is\"+str(test.shape))"
   ]
  },
  {
   "cell_type": "code",
   "execution_count": 4,
   "id": "f5fd801b",
   "metadata": {
    "execution": {
     "iopub.execute_input": "2022-10-21T14:15:49.377538Z",
     "iopub.status.busy": "2022-10-21T14:15:49.376996Z",
     "iopub.status.idle": "2022-10-21T14:15:49.413497Z",
     "shell.execute_reply": "2022-10-21T14:15:49.412427Z"
    },
    "papermill": {
     "duration": 0.046714,
     "end_time": "2022-10-21T14:15:49.415726",
     "exception": false,
     "start_time": "2022-10-21T14:15:49.369012",
     "status": "completed"
    },
    "tags": []
   },
   "outputs": [
    {
     "name": "stdout",
     "output_type": "stream",
     "text": [
      "<class 'pandas.core.frame.DataFrame'>\n",
      "RangeIndex: 8693 entries, 0 to 8692\n",
      "Data columns (total 14 columns):\n",
      " #   Column        Non-Null Count  Dtype  \n",
      "---  ------        --------------  -----  \n",
      " 0   PassengerId   8693 non-null   object \n",
      " 1   HomePlanet    8492 non-null   object \n",
      " 2   CryoSleep     8476 non-null   object \n",
      " 3   Cabin         8494 non-null   object \n",
      " 4   Destination   8511 non-null   object \n",
      " 5   Age           8514 non-null   float64\n",
      " 6   VIP           8490 non-null   object \n",
      " 7   RoomService   8512 non-null   float64\n",
      " 8   FoodCourt     8510 non-null   float64\n",
      " 9   ShoppingMall  8485 non-null   float64\n",
      " 10  Spa           8510 non-null   float64\n",
      " 11  VRDeck        8505 non-null   float64\n",
      " 12  Name          8493 non-null   object \n",
      " 13  Transported   8693 non-null   bool   \n",
      "dtypes: bool(1), float64(6), object(7)\n",
      "memory usage: 891.5+ KB\n",
      "<class 'pandas.core.frame.DataFrame'>\n",
      "RangeIndex: 4277 entries, 0 to 4276\n",
      "Data columns (total 13 columns):\n",
      " #   Column        Non-Null Count  Dtype  \n",
      "---  ------        --------------  -----  \n",
      " 0   PassengerId   4277 non-null   object \n",
      " 1   HomePlanet    4190 non-null   object \n",
      " 2   CryoSleep     4184 non-null   object \n",
      " 3   Cabin         4177 non-null   object \n",
      " 4   Destination   4185 non-null   object \n",
      " 5   Age           4186 non-null   float64\n",
      " 6   VIP           4184 non-null   object \n",
      " 7   RoomService   4195 non-null   float64\n",
      " 8   FoodCourt     4171 non-null   float64\n",
      " 9   ShoppingMall  4179 non-null   float64\n",
      " 10  Spa           4176 non-null   float64\n",
      " 11  VRDeck        4197 non-null   float64\n",
      " 12  Name          4183 non-null   object \n",
      "dtypes: float64(6), object(7)\n",
      "memory usage: 434.5+ KB\n"
     ]
    }
   ],
   "source": [
    "#Unequal number of columns due to 'Transported' column missing\n",
    "train.info()\n",
    "test.info()"
   ]
  },
  {
   "cell_type": "markdown",
   "id": "09141c49",
   "metadata": {
    "papermill": {
     "duration": 0.006435,
     "end_time": "2022-10-21T14:15:49.428915",
     "exception": false,
     "start_time": "2022-10-21T14:15:49.422480",
     "status": "completed"
    },
    "tags": []
   },
   "source": [
    "Inspect data"
   ]
  },
  {
   "cell_type": "code",
   "execution_count": 5,
   "id": "6c1dd96f",
   "metadata": {
    "execution": {
     "iopub.execute_input": "2022-10-21T14:15:49.443995Z",
     "iopub.status.busy": "2022-10-21T14:15:49.443579Z",
     "iopub.status.idle": "2022-10-21T14:15:49.488560Z",
     "shell.execute_reply": "2022-10-21T14:15:49.487624Z"
    },
    "papermill": {
     "duration": 0.055194,
     "end_time": "2022-10-21T14:15:49.490775",
     "exception": false,
     "start_time": "2022-10-21T14:15:49.435581",
     "status": "completed"
    },
    "tags": []
   },
   "outputs": [
    {
     "data": {
      "text/html": [
       "<div>\n",
       "<style scoped>\n",
       "    .dataframe tbody tr th:only-of-type {\n",
       "        vertical-align: middle;\n",
       "    }\n",
       "\n",
       "    .dataframe tbody tr th {\n",
       "        vertical-align: top;\n",
       "    }\n",
       "\n",
       "    .dataframe thead th {\n",
       "        text-align: right;\n",
       "    }\n",
       "</style>\n",
       "<table border=\"1\" class=\"dataframe\">\n",
       "  <thead>\n",
       "    <tr style=\"text-align: right;\">\n",
       "      <th></th>\n",
       "      <th>PassengerId</th>\n",
       "      <th>HomePlanet</th>\n",
       "      <th>CryoSleep</th>\n",
       "      <th>Cabin</th>\n",
       "      <th>Destination</th>\n",
       "      <th>VIP</th>\n",
       "      <th>Name</th>\n",
       "    </tr>\n",
       "  </thead>\n",
       "  <tbody>\n",
       "    <tr>\n",
       "      <th>count</th>\n",
       "      <td>8693</td>\n",
       "      <td>8492</td>\n",
       "      <td>8476</td>\n",
       "      <td>8494</td>\n",
       "      <td>8511</td>\n",
       "      <td>8490</td>\n",
       "      <td>8493</td>\n",
       "    </tr>\n",
       "    <tr>\n",
       "      <th>unique</th>\n",
       "      <td>8693</td>\n",
       "      <td>3</td>\n",
       "      <td>2</td>\n",
       "      <td>6560</td>\n",
       "      <td>3</td>\n",
       "      <td>2</td>\n",
       "      <td>8473</td>\n",
       "    </tr>\n",
       "    <tr>\n",
       "      <th>top</th>\n",
       "      <td>0001_01</td>\n",
       "      <td>Earth</td>\n",
       "      <td>False</td>\n",
       "      <td>G/734/S</td>\n",
       "      <td>TRAPPIST-1e</td>\n",
       "      <td>False</td>\n",
       "      <td>Gollux Reedall</td>\n",
       "    </tr>\n",
       "    <tr>\n",
       "      <th>freq</th>\n",
       "      <td>1</td>\n",
       "      <td>4602</td>\n",
       "      <td>5439</td>\n",
       "      <td>8</td>\n",
       "      <td>5915</td>\n",
       "      <td>8291</td>\n",
       "      <td>2</td>\n",
       "    </tr>\n",
       "  </tbody>\n",
       "</table>\n",
       "</div>"
      ],
      "text/plain": [
       "       PassengerId HomePlanet CryoSleep    Cabin  Destination    VIP  \\\n",
       "count         8693       8492      8476     8494         8511   8490   \n",
       "unique        8693          3         2     6560            3      2   \n",
       "top        0001_01      Earth     False  G/734/S  TRAPPIST-1e  False   \n",
       "freq             1       4602      5439        8         5915   8291   \n",
       "\n",
       "                  Name  \n",
       "count             8493  \n",
       "unique            8473  \n",
       "top     Gollux Reedall  \n",
       "freq                 2  "
      ]
     },
     "execution_count": 5,
     "metadata": {},
     "output_type": "execute_result"
    }
   ],
   "source": [
    "train.describe(include=['object'])\n"
   ]
  },
  {
   "cell_type": "code",
   "execution_count": 6,
   "id": "9a89a2e8",
   "metadata": {
    "execution": {
     "iopub.execute_input": "2022-10-21T14:15:49.505897Z",
     "iopub.status.busy": "2022-10-21T14:15:49.505500Z",
     "iopub.status.idle": "2022-10-21T14:15:51.484157Z",
     "shell.execute_reply": "2022-10-21T14:15:51.483157Z"
    },
    "papermill": {
     "duration": 1.989862,
     "end_time": "2022-10-21T14:15:51.487554",
     "exception": false,
     "start_time": "2022-10-21T14:15:49.497692",
     "status": "completed"
    },
    "tags": []
   },
   "outputs": [
    {
     "name": "stderr",
     "output_type": "stream",
     "text": [
      "/opt/conda/lib/python3.7/site-packages/seaborn/axisgrid.py:337: UserWarning: The `size` parameter has been renamed to `height`; please update your code.\n",
      "  warnings.warn(msg, UserWarning)\n"
     ]
    },
    {
     "data": {
      "image/png": "[encoded data removed]",
      "text/plain": [
       "<Figure size 514.88x316.8 with 4 Axes>"
      ]
     },
     "metadata": {
      "needs_background": "light"
     },
     "output_type": "display_data"
    }
   ],
   "source": [
    "#DATA VISUALISATION \n",
    "import seaborn as sns\n",
    "%matplotlib inline\n",
    "from matplotlib import pyplot as plt\n",
    "from matplotlib import style\n",
    "\n",
    "grid = sns.FacetGrid(train, col='Transported', row='VIP', size=2.2, aspect=1.6)\n",
    "grid.map(plt.hist, 'Age', alpha=.5, bins=20)\n",
    "grid.add_legend();"
   ]
  },
  {
   "cell_type": "code",
   "execution_count": 7,
   "id": "23c6cb7f",
   "metadata": {
    "execution": {
     "iopub.execute_input": "2022-10-21T14:15:51.506341Z",
     "iopub.status.busy": "2022-10-21T14:15:51.505798Z",
     "iopub.status.idle": "2022-10-21T14:15:51.601583Z",
     "shell.execute_reply": "2022-10-21T14:15:51.600504Z"
    },
    "papermill": {
     "duration": 0.107187,
     "end_time": "2022-10-21T14:15:51.603831",
     "exception": false,
     "start_time": "2022-10-21T14:15:51.496644",
     "status": "completed"
    },
    "tags": []
   },
   "outputs": [
    {
     "data": {
      "image/png": "[encoded data removed]",
      "text/plain": [
       "<Figure size 432x288 with 1 Axes>"
      ]
     },
     "metadata": {},
     "output_type": "display_data"
    }
   ],
   "source": [
    "#The proportion size of passengers'home planet\n",
    "planet_count = train[\"HomePlanet\"].value_counts()\n",
    "label=[\"Earth\", \"Europa\", \"Mars\"]\n",
    "plt.pie(planet_count, labels=label)\n",
    "plt.show()"
   ]
  },
  {
   "cell_type": "code",
   "execution_count": 8,
   "id": "e8bf5e5d",
   "metadata": {
    "execution": {
     "iopub.execute_input": "2022-10-21T14:15:51.620503Z",
     "iopub.status.busy": "2022-10-21T14:15:51.620097Z",
     "iopub.status.idle": "2022-10-21T14:15:51.630658Z",
     "shell.execute_reply": "2022-10-21T14:15:51.629687Z"
    },
    "papermill": {
     "duration": 0.02135,
     "end_time": "2022-10-21T14:15:51.632721",
     "exception": false,
     "start_time": "2022-10-21T14:15:51.611371",
     "status": "completed"
    },
    "tags": []
   },
   "outputs": [
    {
     "data": {
      "text/plain": [
       "Transported  VIP  \n",
       "False        False    4093\n",
       "             True      123\n",
       "True         False    4198\n",
       "             True       76\n",
       "Name: VIP, dtype: int64"
      ]
     },
     "execution_count": 8,
     "metadata": {},
     "output_type": "execute_result"
    }
   ],
   "source": [
    "train.groupby(['Transported']).VIP.value_counts()\n",
    "#Similar proportion of VIPs to nonVIPs for transport"
   ]
  },
  {
   "cell_type": "code",
   "execution_count": 9,
   "id": "c5b93d20",
   "metadata": {
    "execution": {
     "iopub.execute_input": "2022-10-21T14:15:51.649238Z",
     "iopub.status.busy": "2022-10-21T14:15:51.648822Z",
     "iopub.status.idle": "2022-10-21T14:15:51.660778Z",
     "shell.execute_reply": "2022-10-21T14:15:51.659730Z"
    },
    "papermill": {
     "duration": 0.022475,
     "end_time": "2022-10-21T14:15:51.662814",
     "exception": false,
     "start_time": "2022-10-21T14:15:51.640339",
     "status": "completed"
    },
    "tags": []
   },
   "outputs": [
    {
     "data": {
      "text/plain": [
       "PassengerId       0\n",
       "HomePlanet      201\n",
       "CryoSleep       217\n",
       "Cabin           199\n",
       "Destination     182\n",
       "Age             179\n",
       "VIP             203\n",
       "RoomService     181\n",
       "FoodCourt       183\n",
       "ShoppingMall    208\n",
       "Spa             183\n",
       "VRDeck          188\n",
       "Name            200\n",
       "Transported       0\n",
       "dtype: int64"
      ]
     },
     "execution_count": 9,
     "metadata": {},
     "output_type": "execute_result"
    }
   ],
   "source": [
    "#DATA TREATMENT\n",
    "#observe all NaN values in each column\n",
    "train.isnull().sum()"
   ]
  },
  {
   "cell_type": "code",
   "execution_count": 10,
   "id": "9150a02e",
   "metadata": {
    "execution": {
     "iopub.execute_input": "2022-10-21T14:15:51.679871Z",
     "iopub.status.busy": "2022-10-21T14:15:51.678956Z",
     "iopub.status.idle": "2022-10-21T14:15:51.684209Z",
     "shell.execute_reply": "2022-10-21T14:15:51.683563Z"
    },
    "papermill": {
     "duration": 0.015671,
     "end_time": "2022-10-21T14:15:51.686099",
     "exception": false,
     "start_time": "2022-10-21T14:15:51.670428",
     "status": "completed"
    },
    "tags": []
   },
   "outputs": [],
   "source": [
    "#PassengerId has unique labels- drop\n",
    "#Name has unique labels- drop\n",
    "#Initial plan for Cabin is to split into different deck/num/sides but finds problem with data -To be fixed\n",
    "\n",
    "def data_treat(df):\n",
    "    \n",
    "    df.drop(columns=['PassengerId','Name', 'Cabin'], inplace=True)\n",
    "    \n",
    "    return df\n",
    "    "
   ]
  },
  {
   "cell_type": "code",
   "execution_count": 11,
   "id": "c22f4a27",
   "metadata": {
    "execution": {
     "iopub.execute_input": "2022-10-21T14:15:51.703032Z",
     "iopub.status.busy": "2022-10-21T14:15:51.702373Z",
     "iopub.status.idle": "2022-10-21T14:15:51.723392Z",
     "shell.execute_reply": "2022-10-21T14:15:51.722457Z"
    },
    "papermill": {
     "duration": 0.031729,
     "end_time": "2022-10-21T14:15:51.725444",
     "exception": false,
     "start_time": "2022-10-21T14:15:51.693715",
     "status": "completed"
    },
    "tags": []
   },
   "outputs": [
    {
     "data": {
      "text/html": [
       "<div>\n",
       "<style scoped>\n",
       "    .dataframe tbody tr th:only-of-type {\n",
       "        vertical-align: middle;\n",
       "    }\n",
       "\n",
       "    .dataframe tbody tr th {\n",
       "        vertical-align: top;\n",
       "    }\n",
       "\n",
       "    .dataframe thead th {\n",
       "        text-align: right;\n",
       "    }\n",
       "</style>\n",
       "<table border=\"1\" class=\"dataframe\">\n",
       "  <thead>\n",
       "    <tr style=\"text-align: right;\">\n",
       "      <th></th>\n",
       "      <th>HomePlanet</th>\n",
       "      <th>CryoSleep</th>\n",
       "      <th>Destination</th>\n",
       "      <th>Age</th>\n",
       "      <th>VIP</th>\n",
       "      <th>RoomService</th>\n",
       "      <th>FoodCourt</th>\n",
       "      <th>ShoppingMall</th>\n",
       "      <th>Spa</th>\n",
       "      <th>VRDeck</th>\n",
       "      <th>Transported</th>\n",
       "    </tr>\n",
       "  </thead>\n",
       "  <tbody>\n",
       "    <tr>\n",
       "      <th>0</th>\n",
       "      <td>Europa</td>\n",
       "      <td>False</td>\n",
       "      <td>TRAPPIST-1e</td>\n",
       "      <td>39.0</td>\n",
       "      <td>False</td>\n",
       "      <td>0.0</td>\n",
       "      <td>0.0</td>\n",
       "      <td>0.0</td>\n",
       "      <td>0.0</td>\n",
       "      <td>0.0</td>\n",
       "      <td>False</td>\n",
       "    </tr>\n",
       "    <tr>\n",
       "      <th>1</th>\n",
       "      <td>Earth</td>\n",
       "      <td>False</td>\n",
       "      <td>TRAPPIST-1e</td>\n",
       "      <td>24.0</td>\n",
       "      <td>False</td>\n",
       "      <td>109.0</td>\n",
       "      <td>9.0</td>\n",
       "      <td>25.0</td>\n",
       "      <td>549.0</td>\n",
       "      <td>44.0</td>\n",
       "      <td>True</td>\n",
       "    </tr>\n",
       "    <tr>\n",
       "      <th>2</th>\n",
       "      <td>Europa</td>\n",
       "      <td>False</td>\n",
       "      <td>TRAPPIST-1e</td>\n",
       "      <td>58.0</td>\n",
       "      <td>True</td>\n",
       "      <td>43.0</td>\n",
       "      <td>3576.0</td>\n",
       "      <td>0.0</td>\n",
       "      <td>6715.0</td>\n",
       "      <td>49.0</td>\n",
       "      <td>False</td>\n",
       "    </tr>\n",
       "    <tr>\n",
       "      <th>3</th>\n",
       "      <td>Europa</td>\n",
       "      <td>False</td>\n",
       "      <td>TRAPPIST-1e</td>\n",
       "      <td>33.0</td>\n",
       "      <td>False</td>\n",
       "      <td>0.0</td>\n",
       "      <td>1283.0</td>\n",
       "      <td>371.0</td>\n",
       "      <td>3329.0</td>\n",
       "      <td>193.0</td>\n",
       "      <td>False</td>\n",
       "    </tr>\n",
       "    <tr>\n",
       "      <th>4</th>\n",
       "      <td>Earth</td>\n",
       "      <td>False</td>\n",
       "      <td>TRAPPIST-1e</td>\n",
       "      <td>16.0</td>\n",
       "      <td>False</td>\n",
       "      <td>303.0</td>\n",
       "      <td>70.0</td>\n",
       "      <td>151.0</td>\n",
       "      <td>565.0</td>\n",
       "      <td>2.0</td>\n",
       "      <td>True</td>\n",
       "    </tr>\n",
       "  </tbody>\n",
       "</table>\n",
       "</div>"
      ],
      "text/plain": [
       "  HomePlanet CryoSleep  Destination   Age    VIP  RoomService  FoodCourt  \\\n",
       "0     Europa     False  TRAPPIST-1e  39.0  False          0.0        0.0   \n",
       "1      Earth     False  TRAPPIST-1e  24.0  False        109.0        9.0   \n",
       "2     Europa     False  TRAPPIST-1e  58.0   True         43.0     3576.0   \n",
       "3     Europa     False  TRAPPIST-1e  33.0  False          0.0     1283.0   \n",
       "4      Earth     False  TRAPPIST-1e  16.0  False        303.0       70.0   \n",
       "\n",
       "   ShoppingMall     Spa  VRDeck  Transported  \n",
       "0           0.0     0.0     0.0        False  \n",
       "1          25.0   549.0    44.0         True  \n",
       "2           0.0  6715.0    49.0        False  \n",
       "3         371.0  3329.0   193.0        False  \n",
       "4         151.0   565.0     2.0         True  "
      ]
     },
     "execution_count": 11,
     "metadata": {},
     "output_type": "execute_result"
    }
   ],
   "source": [
    "data_treat(train)\n",
    "data_treat(test)\n",
    "train.head()"
   ]
  },
  {
   "cell_type": "code",
   "execution_count": 12,
   "id": "3fca60a0",
   "metadata": {
    "execution": {
     "iopub.execute_input": "2022-10-21T14:15:51.742784Z",
     "iopub.status.busy": "2022-10-21T14:15:51.742092Z",
     "iopub.status.idle": "2022-10-21T14:15:51.752268Z",
     "shell.execute_reply": "2022-10-21T14:15:51.751296Z"
    },
    "papermill": {
     "duration": 0.021472,
     "end_time": "2022-10-21T14:15:51.754608",
     "exception": false,
     "start_time": "2022-10-21T14:15:51.733136",
     "status": "completed"
    },
    "tags": []
   },
   "outputs": [
    {
     "name": "stdout",
     "output_type": "stream",
     "text": [
      "Columns containing more than 10% missing values in dataset is 0\n"
     ]
    }
   ],
   "source": [
    "#Follow missing values of <10% to consider imputation\n",
    "#will remove if exceeds 10%\n",
    "\n",
    "train_cols = train.isnull().sum().to_dict()\n",
    "empty_cols = []\n",
    "for i,v in enumerate(train_cols):\n",
    "    if train_cols[v]>(0.1*train.shape[0]):\n",
    "        empty_cols.append(v)\n",
    "\n",
    "print(f\"Columns containing more than 10% missing values in dataset is {len(empty_cols)}\")\n"
   ]
  },
  {
   "cell_type": "code",
   "execution_count": 13,
   "id": "81913b87",
   "metadata": {
    "execution": {
     "iopub.execute_input": "2022-10-21T14:15:51.772533Z",
     "iopub.status.busy": "2022-10-21T14:15:51.771810Z",
     "iopub.status.idle": "2022-10-21T14:15:51.907321Z",
     "shell.execute_reply": "2022-10-21T14:15:51.906407Z"
    },
    "papermill": {
     "duration": 0.146823,
     "end_time": "2022-10-21T14:15:51.909714",
     "exception": false,
     "start_time": "2022-10-21T14:15:51.762891",
     "status": "completed"
    },
    "tags": []
   },
   "outputs": [],
   "source": [
    "from sklearn import preprocessing\n",
    "\n",
    "def feature_eng(df):\n",
    "   \n",
    "    le = preprocessing.LabelEncoder()\n",
    "    df_obj = df.describe(include=['object'])\n",
    "    #label as str type to not be categorised as float values\n",
    "    df[df_obj.columns]= df[df_obj.columns].astype(str)   \n",
    "    df[df_obj.columns] = df[df_obj.columns].apply(le.fit_transform)\n",
    "\n",
    "    #Fill up NaN values with median of columns\n",
    "    df = df.fillna(df.median())\n",
    "    \n",
    "    return df\n",
    "    "
   ]
  },
  {
   "cell_type": "code",
   "execution_count": 14,
   "id": "58ee9db8",
   "metadata": {
    "execution": {
     "iopub.execute_input": "2022-10-21T14:15:51.927247Z",
     "iopub.status.busy": "2022-10-21T14:15:51.926545Z",
     "iopub.status.idle": "2022-10-21T14:15:52.009501Z",
     "shell.execute_reply": "2022-10-21T14:15:52.008494Z"
    },
    "papermill": {
     "duration": 0.093971,
     "end_time": "2022-10-21T14:15:52.011591",
     "exception": false,
     "start_time": "2022-10-21T14:15:51.917620",
     "status": "completed"
    },
    "tags": []
   },
   "outputs": [
    {
     "data": {
      "text/html": [
       "<div>\n",
       "<style scoped>\n",
       "    .dataframe tbody tr th:only-of-type {\n",
       "        vertical-align: middle;\n",
       "    }\n",
       "\n",
       "    .dataframe tbody tr th {\n",
       "        vertical-align: top;\n",
       "    }\n",
       "\n",
       "    .dataframe thead th {\n",
       "        text-align: right;\n",
       "    }\n",
       "</style>\n",
       "<table border=\"1\" class=\"dataframe\">\n",
       "  <thead>\n",
       "    <tr style=\"text-align: right;\">\n",
       "      <th></th>\n",
       "      <th>HomePlanet</th>\n",
       "      <th>CryoSleep</th>\n",
       "      <th>Destination</th>\n",
       "      <th>Age</th>\n",
       "      <th>VIP</th>\n",
       "      <th>RoomService</th>\n",
       "      <th>FoodCourt</th>\n",
       "      <th>ShoppingMall</th>\n",
       "      <th>Spa</th>\n",
       "      <th>VRDeck</th>\n",
       "    </tr>\n",
       "  </thead>\n",
       "  <tbody>\n",
       "    <tr>\n",
       "      <th>0</th>\n",
       "      <td>0</td>\n",
       "      <td>1</td>\n",
       "      <td>2</td>\n",
       "      <td>27.0</td>\n",
       "      <td>0</td>\n",
       "      <td>0.0</td>\n",
       "      <td>0.0</td>\n",
       "      <td>0.0</td>\n",
       "      <td>0.0</td>\n",
       "      <td>0.0</td>\n",
       "    </tr>\n",
       "    <tr>\n",
       "      <th>1</th>\n",
       "      <td>0</td>\n",
       "      <td>0</td>\n",
       "      <td>2</td>\n",
       "      <td>19.0</td>\n",
       "      <td>0</td>\n",
       "      <td>0.0</td>\n",
       "      <td>9.0</td>\n",
       "      <td>0.0</td>\n",
       "      <td>2823.0</td>\n",
       "      <td>0.0</td>\n",
       "    </tr>\n",
       "    <tr>\n",
       "      <th>2</th>\n",
       "      <td>1</td>\n",
       "      <td>1</td>\n",
       "      <td>0</td>\n",
       "      <td>31.0</td>\n",
       "      <td>0</td>\n",
       "      <td>0.0</td>\n",
       "      <td>0.0</td>\n",
       "      <td>0.0</td>\n",
       "      <td>0.0</td>\n",
       "      <td>0.0</td>\n",
       "    </tr>\n",
       "    <tr>\n",
       "      <th>3</th>\n",
       "      <td>1</td>\n",
       "      <td>0</td>\n",
       "      <td>2</td>\n",
       "      <td>38.0</td>\n",
       "      <td>0</td>\n",
       "      <td>0.0</td>\n",
       "      <td>6652.0</td>\n",
       "      <td>0.0</td>\n",
       "      <td>181.0</td>\n",
       "      <td>585.0</td>\n",
       "    </tr>\n",
       "    <tr>\n",
       "      <th>4</th>\n",
       "      <td>0</td>\n",
       "      <td>0</td>\n",
       "      <td>2</td>\n",
       "      <td>20.0</td>\n",
       "      <td>0</td>\n",
       "      <td>10.0</td>\n",
       "      <td>0.0</td>\n",
       "      <td>635.0</td>\n",
       "      <td>0.0</td>\n",
       "      <td>0.0</td>\n",
       "    </tr>\n",
       "    <tr>\n",
       "      <th>...</th>\n",
       "      <td>...</td>\n",
       "      <td>...</td>\n",
       "      <td>...</td>\n",
       "      <td>...</td>\n",
       "      <td>...</td>\n",
       "      <td>...</td>\n",
       "      <td>...</td>\n",
       "      <td>...</td>\n",
       "      <td>...</td>\n",
       "      <td>...</td>\n",
       "    </tr>\n",
       "    <tr>\n",
       "      <th>4272</th>\n",
       "      <td>0</td>\n",
       "      <td>1</td>\n",
       "      <td>2</td>\n",
       "      <td>34.0</td>\n",
       "      <td>0</td>\n",
       "      <td>0.0</td>\n",
       "      <td>0.0</td>\n",
       "      <td>0.0</td>\n",
       "      <td>0.0</td>\n",
       "      <td>0.0</td>\n",
       "    </tr>\n",
       "    <tr>\n",
       "      <th>4273</th>\n",
       "      <td>0</td>\n",
       "      <td>0</td>\n",
       "      <td>2</td>\n",
       "      <td>42.0</td>\n",
       "      <td>0</td>\n",
       "      <td>0.0</td>\n",
       "      <td>847.0</td>\n",
       "      <td>17.0</td>\n",
       "      <td>10.0</td>\n",
       "      <td>144.0</td>\n",
       "    </tr>\n",
       "    <tr>\n",
       "      <th>4274</th>\n",
       "      <td>2</td>\n",
       "      <td>1</td>\n",
       "      <td>0</td>\n",
       "      <td>26.0</td>\n",
       "      <td>0</td>\n",
       "      <td>0.0</td>\n",
       "      <td>0.0</td>\n",
       "      <td>0.0</td>\n",
       "      <td>0.0</td>\n",
       "      <td>0.0</td>\n",
       "    </tr>\n",
       "    <tr>\n",
       "      <th>4275</th>\n",
       "      <td>1</td>\n",
       "      <td>0</td>\n",
       "      <td>3</td>\n",
       "      <td>26.0</td>\n",
       "      <td>0</td>\n",
       "      <td>0.0</td>\n",
       "      <td>2680.0</td>\n",
       "      <td>0.0</td>\n",
       "      <td>0.0</td>\n",
       "      <td>523.0</td>\n",
       "    </tr>\n",
       "    <tr>\n",
       "      <th>4276</th>\n",
       "      <td>0</td>\n",
       "      <td>1</td>\n",
       "      <td>1</td>\n",
       "      <td>43.0</td>\n",
       "      <td>0</td>\n",
       "      <td>0.0</td>\n",
       "      <td>0.0</td>\n",
       "      <td>0.0</td>\n",
       "      <td>0.0</td>\n",
       "      <td>0.0</td>\n",
       "    </tr>\n",
       "  </tbody>\n",
       "</table>\n",
       "<p>4277 rows × 10 columns</p>\n",
       "</div>"
      ],
      "text/plain": [
       "      HomePlanet  CryoSleep  Destination   Age  VIP  RoomService  FoodCourt  \\\n",
       "0              0          1            2  27.0    0          0.0        0.0   \n",
       "1              0          0            2  19.0    0          0.0        9.0   \n",
       "2              1          1            0  31.0    0          0.0        0.0   \n",
       "3              1          0            2  38.0    0          0.0     6652.0   \n",
       "4              0          0            2  20.0    0         10.0        0.0   \n",
       "...          ...        ...          ...   ...  ...          ...        ...   \n",
       "4272           0          1            2  34.0    0          0.0        0.0   \n",
       "4273           0          0            2  42.0    0          0.0      847.0   \n",
       "4274           2          1            0  26.0    0          0.0        0.0   \n",
       "4275           1          0            3  26.0    0          0.0     2680.0   \n",
       "4276           0          1            1  43.0    0          0.0        0.0   \n",
       "\n",
       "      ShoppingMall     Spa  VRDeck  \n",
       "0              0.0     0.0     0.0  \n",
       "1              0.0  2823.0     0.0  \n",
       "2              0.0     0.0     0.0  \n",
       "3              0.0   181.0   585.0  \n",
       "4            635.0     0.0     0.0  \n",
       "...            ...     ...     ...  \n",
       "4272           0.0     0.0     0.0  \n",
       "4273          17.0    10.0   144.0  \n",
       "4274           0.0     0.0     0.0  \n",
       "4275           0.0     0.0   523.0  \n",
       "4276           0.0     0.0     0.0  \n",
       "\n",
       "[4277 rows x 10 columns]"
      ]
     },
     "execution_count": 14,
     "metadata": {},
     "output_type": "execute_result"
    }
   ],
   "source": [
    "feature_eng(train)\n",
    "feature_eng(test)"
   ]
  },
  {
   "cell_type": "code",
   "execution_count": 15,
   "id": "10d62664",
   "metadata": {
    "execution": {
     "iopub.execute_input": "2022-10-21T14:15:52.030195Z",
     "iopub.status.busy": "2022-10-21T14:15:52.029377Z",
     "iopub.status.idle": "2022-10-21T14:15:52.037879Z",
     "shell.execute_reply": "2022-10-21T14:15:52.036621Z"
    },
    "papermill": {
     "duration": 0.020099,
     "end_time": "2022-10-21T14:15:52.040076",
     "exception": false,
     "start_time": "2022-10-21T14:15:52.019977",
     "status": "completed"
    },
    "tags": []
   },
   "outputs": [],
   "source": [
    "def int_mean(df):\n",
    "    \n",
    "    mean_age =round(df['Age'].mean())\n",
    "    mean_rs = round(df['RoomService'].mean())\n",
    "    mean_sm = round(df['ShoppingMall'].mean())\n",
    "    mean_fc = round(df['FoodCourt'].mean())\n",
    "    mean_spa  =round(df['Spa'].mean())\n",
    "    mean_vrd = round(df['VRDeck'].mean())\n",
    "    df['Age'].fillna(value=mean_age, inplace=True)\n",
    "    df['RoomService'].fillna(value=mean_rs, inplace=True)\n",
    "    df['ShoppingMall'].fillna(value=mean_sm, inplace=True)\n",
    "    df['FoodCourt'].fillna(value=mean_fc, inplace=True)\n",
    "    df['Spa'].fillna(value=mean_spa, inplace=True)\n",
    "    df['VRDeck'].fillna(value=mean_vrd, inplace=True)\n",
    "\n",
    "    return df"
   ]
  },
  {
   "cell_type": "code",
   "execution_count": 16,
   "id": "6b4dabce",
   "metadata": {
    "execution": {
     "iopub.execute_input": "2022-10-21T14:15:52.058302Z",
     "iopub.status.busy": "2022-10-21T14:15:52.057909Z",
     "iopub.status.idle": "2022-10-21T14:15:52.084542Z",
     "shell.execute_reply": "2022-10-21T14:15:52.083565Z"
    },
    "papermill": {
     "duration": 0.038198,
     "end_time": "2022-10-21T14:15:52.086708",
     "exception": false,
     "start_time": "2022-10-21T14:15:52.048510",
     "status": "completed"
    },
    "tags": []
   },
   "outputs": [
    {
     "data": {
      "text/html": [
       "<div>\n",
       "<style scoped>\n",
       "    .dataframe tbody tr th:only-of-type {\n",
       "        vertical-align: middle;\n",
       "    }\n",
       "\n",
       "    .dataframe tbody tr th {\n",
       "        vertical-align: top;\n",
       "    }\n",
       "\n",
       "    .dataframe thead th {\n",
       "        text-align: right;\n",
       "    }\n",
       "</style>\n",
       "<table border=\"1\" class=\"dataframe\">\n",
       "  <thead>\n",
       "    <tr style=\"text-align: right;\">\n",
       "      <th></th>\n",
       "      <th>HomePlanet</th>\n",
       "      <th>CryoSleep</th>\n",
       "      <th>Destination</th>\n",
       "      <th>Age</th>\n",
       "      <th>VIP</th>\n",
       "      <th>RoomService</th>\n",
       "      <th>FoodCourt</th>\n",
       "      <th>ShoppingMall</th>\n",
       "      <th>Spa</th>\n",
       "      <th>VRDeck</th>\n",
       "    </tr>\n",
       "  </thead>\n",
       "  <tbody>\n",
       "    <tr>\n",
       "      <th>0</th>\n",
       "      <td>0</td>\n",
       "      <td>1</td>\n",
       "      <td>2</td>\n",
       "      <td>27.0</td>\n",
       "      <td>0</td>\n",
       "      <td>0.0</td>\n",
       "      <td>0.0</td>\n",
       "      <td>0.0</td>\n",
       "      <td>0.0</td>\n",
       "      <td>0.0</td>\n",
       "    </tr>\n",
       "    <tr>\n",
       "      <th>1</th>\n",
       "      <td>0</td>\n",
       "      <td>0</td>\n",
       "      <td>2</td>\n",
       "      <td>19.0</td>\n",
       "      <td>0</td>\n",
       "      <td>0.0</td>\n",
       "      <td>9.0</td>\n",
       "      <td>0.0</td>\n",
       "      <td>2823.0</td>\n",
       "      <td>0.0</td>\n",
       "    </tr>\n",
       "    <tr>\n",
       "      <th>2</th>\n",
       "      <td>1</td>\n",
       "      <td>1</td>\n",
       "      <td>0</td>\n",
       "      <td>31.0</td>\n",
       "      <td>0</td>\n",
       "      <td>0.0</td>\n",
       "      <td>0.0</td>\n",
       "      <td>0.0</td>\n",
       "      <td>0.0</td>\n",
       "      <td>0.0</td>\n",
       "    </tr>\n",
       "    <tr>\n",
       "      <th>3</th>\n",
       "      <td>1</td>\n",
       "      <td>0</td>\n",
       "      <td>2</td>\n",
       "      <td>38.0</td>\n",
       "      <td>0</td>\n",
       "      <td>0.0</td>\n",
       "      <td>6652.0</td>\n",
       "      <td>0.0</td>\n",
       "      <td>181.0</td>\n",
       "      <td>585.0</td>\n",
       "    </tr>\n",
       "    <tr>\n",
       "      <th>4</th>\n",
       "      <td>0</td>\n",
       "      <td>0</td>\n",
       "      <td>2</td>\n",
       "      <td>20.0</td>\n",
       "      <td>0</td>\n",
       "      <td>10.0</td>\n",
       "      <td>0.0</td>\n",
       "      <td>635.0</td>\n",
       "      <td>0.0</td>\n",
       "      <td>0.0</td>\n",
       "    </tr>\n",
       "    <tr>\n",
       "      <th>...</th>\n",
       "      <td>...</td>\n",
       "      <td>...</td>\n",
       "      <td>...</td>\n",
       "      <td>...</td>\n",
       "      <td>...</td>\n",
       "      <td>...</td>\n",
       "      <td>...</td>\n",
       "      <td>...</td>\n",
       "      <td>...</td>\n",
       "      <td>...</td>\n",
       "    </tr>\n",
       "    <tr>\n",
       "      <th>4272</th>\n",
       "      <td>0</td>\n",
       "      <td>1</td>\n",
       "      <td>2</td>\n",
       "      <td>34.0</td>\n",
       "      <td>0</td>\n",
       "      <td>0.0</td>\n",
       "      <td>0.0</td>\n",
       "      <td>0.0</td>\n",
       "      <td>0.0</td>\n",
       "      <td>0.0</td>\n",
       "    </tr>\n",
       "    <tr>\n",
       "      <th>4273</th>\n",
       "      <td>0</td>\n",
       "      <td>0</td>\n",
       "      <td>2</td>\n",
       "      <td>42.0</td>\n",
       "      <td>0</td>\n",
       "      <td>0.0</td>\n",
       "      <td>847.0</td>\n",
       "      <td>17.0</td>\n",
       "      <td>10.0</td>\n",
       "      <td>144.0</td>\n",
       "    </tr>\n",
       "    <tr>\n",
       "      <th>4274</th>\n",
       "      <td>2</td>\n",
       "      <td>1</td>\n",
       "      <td>0</td>\n",
       "      <td>29.0</td>\n",
       "      <td>0</td>\n",
       "      <td>0.0</td>\n",
       "      <td>0.0</td>\n",
       "      <td>0.0</td>\n",
       "      <td>0.0</td>\n",
       "      <td>0.0</td>\n",
       "    </tr>\n",
       "    <tr>\n",
       "      <th>4275</th>\n",
       "      <td>1</td>\n",
       "      <td>0</td>\n",
       "      <td>3</td>\n",
       "      <td>29.0</td>\n",
       "      <td>0</td>\n",
       "      <td>0.0</td>\n",
       "      <td>2680.0</td>\n",
       "      <td>0.0</td>\n",
       "      <td>0.0</td>\n",
       "      <td>523.0</td>\n",
       "    </tr>\n",
       "    <tr>\n",
       "      <th>4276</th>\n",
       "      <td>0</td>\n",
       "      <td>1</td>\n",
       "      <td>1</td>\n",
       "      <td>43.0</td>\n",
       "      <td>0</td>\n",
       "      <td>0.0</td>\n",
       "      <td>0.0</td>\n",
       "      <td>0.0</td>\n",
       "      <td>0.0</td>\n",
       "      <td>0.0</td>\n",
       "    </tr>\n",
       "  </tbody>\n",
       "</table>\n",
       "<p>4277 rows × 10 columns</p>\n",
       "</div>"
      ],
      "text/plain": [
       "      HomePlanet  CryoSleep  Destination   Age  VIP  RoomService  FoodCourt  \\\n",
       "0              0          1            2  27.0    0          0.0        0.0   \n",
       "1              0          0            2  19.0    0          0.0        9.0   \n",
       "2              1          1            0  31.0    0          0.0        0.0   \n",
       "3              1          0            2  38.0    0          0.0     6652.0   \n",
       "4              0          0            2  20.0    0         10.0        0.0   \n",
       "...          ...        ...          ...   ...  ...          ...        ...   \n",
       "4272           0          1            2  34.0    0          0.0        0.0   \n",
       "4273           0          0            2  42.0    0          0.0      847.0   \n",
       "4274           2          1            0  29.0    0          0.0        0.0   \n",
       "4275           1          0            3  29.0    0          0.0     2680.0   \n",
       "4276           0          1            1  43.0    0          0.0        0.0   \n",
       "\n",
       "      ShoppingMall     Spa  VRDeck  \n",
       "0              0.0     0.0     0.0  \n",
       "1              0.0  2823.0     0.0  \n",
       "2              0.0     0.0     0.0  \n",
       "3              0.0   181.0   585.0  \n",
       "4            635.0     0.0     0.0  \n",
       "...            ...     ...     ...  \n",
       "4272           0.0     0.0     0.0  \n",
       "4273          17.0    10.0   144.0  \n",
       "4274           0.0     0.0     0.0  \n",
       "4275           0.0     0.0   523.0  \n",
       "4276           0.0     0.0     0.0  \n",
       "\n",
       "[4277 rows x 10 columns]"
      ]
     },
     "execution_count": 16,
     "metadata": {},
     "output_type": "execute_result"
    }
   ],
   "source": [
    "int_mean(train)\n",
    "int_mean(test)"
   ]
  },
  {
   "cell_type": "code",
   "execution_count": 17,
   "id": "6971d5c3",
   "metadata": {
    "execution": {
     "iopub.execute_input": "2022-10-21T14:15:52.106533Z",
     "iopub.status.busy": "2022-10-21T14:15:52.105943Z",
     "iopub.status.idle": "2022-10-21T14:15:52.114449Z",
     "shell.execute_reply": "2022-10-21T14:15:52.113462Z"
    },
    "papermill": {
     "duration": 0.020869,
     "end_time": "2022-10-21T14:15:52.116375",
     "exception": false,
     "start_time": "2022-10-21T14:15:52.095506",
     "status": "completed"
    },
    "tags": []
   },
   "outputs": [
    {
     "data": {
      "text/plain": [
       "HomePlanet      0\n",
       "CryoSleep       0\n",
       "Destination     0\n",
       "Age             0\n",
       "VIP             0\n",
       "RoomService     0\n",
       "FoodCourt       0\n",
       "ShoppingMall    0\n",
       "Spa             0\n",
       "VRDeck          0\n",
       "Transported     0\n",
       "dtype: int64"
      ]
     },
     "execution_count": 17,
     "metadata": {},
     "output_type": "execute_result"
    }
   ],
   "source": [
    "#Making sure all values are filled\n",
    "train.isnull().sum()\n"
   ]
  },
  {
   "cell_type": "markdown",
   "id": "29cce21d",
   "metadata": {
    "papermill": {
     "duration": 0.008321,
     "end_time": "2022-10-21T14:15:52.133540",
     "exception": false,
     "start_time": "2022-10-21T14:15:52.125219",
     "status": "completed"
    },
    "tags": []
   },
   "source": [
    "Making a Dataframe of the interested variables"
   ]
  },
  {
   "cell_type": "code",
   "execution_count": 18,
   "id": "6b6c01cf",
   "metadata": {
    "execution": {
     "iopub.execute_input": "2022-10-21T14:15:52.152540Z",
     "iopub.status.busy": "2022-10-21T14:15:52.151938Z",
     "iopub.status.idle": "2022-10-21T14:15:52.159922Z",
     "shell.execute_reply": "2022-10-21T14:15:52.159093Z"
    },
    "papermill": {
     "duration": 0.019654,
     "end_time": "2022-10-21T14:15:52.161804",
     "exception": false,
     "start_time": "2022-10-21T14:15:52.142150",
     "status": "completed"
    },
    "tags": []
   },
   "outputs": [
    {
     "data": {
      "text/plain": [
       "HomePlanet      0\n",
       "CryoSleep       0\n",
       "Destination     0\n",
       "Age             0\n",
       "VIP             0\n",
       "RoomService     0\n",
       "FoodCourt       0\n",
       "ShoppingMall    0\n",
       "Spa             0\n",
       "VRDeck          0\n",
       "dtype: int64"
      ]
     },
     "execution_count": 18,
     "metadata": {},
     "output_type": "execute_result"
    }
   ],
   "source": [
    "#checking for null values\n",
    "test.isnull().sum()"
   ]
  },
  {
   "cell_type": "code",
   "execution_count": 19,
   "id": "c7e37629",
   "metadata": {
    "execution": {
     "iopub.execute_input": "2022-10-21T14:15:52.181411Z",
     "iopub.status.busy": "2022-10-21T14:15:52.180828Z",
     "iopub.status.idle": "2022-10-21T14:15:52.456022Z",
     "shell.execute_reply": "2022-10-21T14:15:52.455234Z"
    },
    "papermill": {
     "duration": 0.287857,
     "end_time": "2022-10-21T14:15:52.458515",
     "exception": false,
     "start_time": "2022-10-21T14:15:52.170658",
     "status": "completed"
    },
    "tags": []
   },
   "outputs": [],
   "source": [
    "from sklearn.model_selection import train_test_split\n",
    "from sklearn.ensemble import RandomForestRegressor\n",
    "from sklearn.preprocessing import StandardScaler\n",
    "\n",
    "#DATASET PREPARATION\n",
    "X_train, X_test, y_train, y_test = train_test_split(train.iloc[:,:-1], train.iloc[:,-1:], random_state = 0)\n",
    "\n",
    "scaler = StandardScaler()\n",
    "X_train_scaled = scaler.fit_transform(X_train)\n",
    "X_test_scaled = scaler.fit_transform(X_test)\n"
   ]
  },
  {
   "cell_type": "code",
   "execution_count": 20,
   "id": "373c7f6f",
   "metadata": {
    "execution": {
     "iopub.execute_input": "2022-10-21T14:15:52.478228Z",
     "iopub.status.busy": "2022-10-21T14:15:52.477476Z",
     "iopub.status.idle": "2022-10-21T14:15:52.496755Z",
     "shell.execute_reply": "2022-10-21T14:15:52.495716Z"
    },
    "papermill": {
     "duration": 0.031383,
     "end_time": "2022-10-21T14:15:52.498964",
     "exception": false,
     "start_time": "2022-10-21T14:15:52.467581",
     "status": "completed"
    },
    "tags": []
   },
   "outputs": [
    {
     "name": "stdout",
     "output_type": "stream",
     "text": [
      "<class 'pandas.core.frame.DataFrame'>\n",
      "Int64Index: 6519 entries, 5020 to 2732\n",
      "Data columns (total 10 columns):\n",
      " #   Column        Non-Null Count  Dtype  \n",
      "---  ------        --------------  -----  \n",
      " 0   HomePlanet    6519 non-null   int64  \n",
      " 1   CryoSleep     6519 non-null   int64  \n",
      " 2   Destination   6519 non-null   int64  \n",
      " 3   Age           6519 non-null   float64\n",
      " 4   VIP           6519 non-null   int64  \n",
      " 5   RoomService   6519 non-null   float64\n",
      " 6   FoodCourt     6519 non-null   float64\n",
      " 7   ShoppingMall  6519 non-null   float64\n",
      " 8   Spa           6519 non-null   float64\n",
      " 9   VRDeck        6519 non-null   float64\n",
      "dtypes: float64(6), int64(4)\n",
      "memory usage: 560.2 KB\n",
      "<class 'pandas.core.frame.DataFrame'>\n",
      "Int64Index: 2174 entries, 3601 to 2549\n",
      "Data columns (total 1 columns):\n",
      " #   Column       Non-Null Count  Dtype\n",
      "---  ------       --------------  -----\n",
      " 0   Transported  2174 non-null   bool \n",
      "dtypes: bool(1)\n",
      "memory usage: 19.1 KB\n"
     ]
    }
   ],
   "source": [
    "X_train.info()\n",
    "y_test.info()"
   ]
  },
  {
   "cell_type": "code",
   "execution_count": 21,
   "id": "410e4262",
   "metadata": {
    "execution": {
     "iopub.execute_input": "2022-10-21T14:15:52.519306Z",
     "iopub.status.busy": "2022-10-21T14:15:52.518522Z",
     "iopub.status.idle": "2022-10-21T14:15:54.233784Z",
     "shell.execute_reply": "2022-10-21T14:15:54.232679Z"
    },
    "papermill": {
     "duration": 1.727807,
     "end_time": "2022-10-21T14:15:54.235814",
     "exception": false,
     "start_time": "2022-10-21T14:15:52.508007",
     "status": "completed"
    },
    "tags": []
   },
   "outputs": [
    {
     "name": "stderr",
     "output_type": "stream",
     "text": [
      "/opt/conda/lib/python3.7/site-packages/ipykernel_launcher.py:4: DataConversionWarning: A column-vector y was passed when a 1d array was expected. Please change the shape of y to (n_samples,), for example using ravel().\n",
      "  after removing the cwd from sys.path.\n"
     ]
    },
    {
     "name": "stdout",
     "output_type": "stream",
     "text": [
      "Feature: HomePlanet, Score: 0.05987\n",
      "Feature: CryoSleep, Score: 0.24294\n",
      "Feature: Destination, Score: 0.02983\n",
      "Feature: Age, Score: 0.16265\n",
      "Feature: VIP, Score: 0.01074\n",
      "Feature: RoomService, Score: 0.08830\n",
      "Feature: FoodCourt, Score: 0.10853\n",
      "Feature: ShoppingMall, Score: 0.09270\n",
      "Feature: Spa, Score: 0.10322\n",
      "Feature: VRDeck, Score: 0.10123\n"
     ]
    },
    {
     "data": {
      "image/png": "[encoded data removed]",
      "text/plain": [
       "<Figure size 432x288 with 1 Axes>"
      ]
     },
     "metadata": {
      "needs_background": "light"
     },
     "output_type": "display_data"
    }
   ],
   "source": [
    "#IDENTIFYING IMPORTANT VARIABLES\n",
    "\n",
    "model = RandomForestRegressor()\n",
    "model.fit(X_train_scaled, y_train)\n",
    "\n",
    "importance = model.feature_importances_\n",
    "\n",
    "importances = pd.DataFrame(data={'Attribute':train.columns[:-1],\n",
    "                                'Importance':importance\n",
    "                                })\n",
    "\n",
    "# Summarize feature importance\n",
    "for i,v in enumerate(importances['Importance']):\n",
    "    print('Feature: %s, Score: %.5f' % (importances['Attribute'][i],v))\n",
    "\n",
    "importances = importances.sort_values(by='Importance', ascending=False)\n",
    "\n",
    "#Plotting valuable features in descending order\n",
    "plt.bar(x=importances['Attribute'], height=importances['Importance'], color='#087E8B')\n",
    "plt.title('Feature importances obtained from Random Forest', size=20)\n",
    "plt.xticks(rotation='vertical')\n",
    "plt.show()"
   ]
  },
  {
   "cell_type": "code",
   "execution_count": 22,
   "id": "03f4e2ae",
   "metadata": {
    "execution": {
     "iopub.execute_input": "2022-10-21T14:15:54.257868Z",
     "iopub.status.busy": "2022-10-21T14:15:54.257456Z",
     "iopub.status.idle": "2022-10-21T14:15:55.983675Z",
     "shell.execute_reply": "2022-10-21T14:15:55.982578Z"
    },
    "papermill": {
     "duration": 1.740498,
     "end_time": "2022-10-21T14:15:55.986384",
     "exception": false,
     "start_time": "2022-10-21T14:15:54.245886",
     "status": "completed"
    },
    "tags": []
   },
   "outputs": [
    {
     "name": "stderr",
     "output_type": "stream",
     "text": [
      "/opt/conda/lib/python3.7/site-packages/ipykernel_launcher.py:10: DataConversionWarning: A column-vector y was passed when a 1d array was expected. Please change the shape of y to (n_samples,), for example using ravel().\n",
      "  # Remove the CWD from sys.path while we load stuff.\n"
     ]
    },
    {
     "name": "stdout",
     "output_type": "stream",
     "text": [
      "Model 1 accuracy:0.799\n",
      "Model 1 score on prediction:0.374\n",
      "Model 2 accuracy:0.945\n",
      "Model 2 score on prediction:0.707\n"
     ]
    }
   ],
   "source": [
    "from sklearn.tree import DecisionTreeClassifier\n",
    "from sklearn.ensemble import RandomForestRegressor\n",
    "\n",
    "fs = ['CryoSleep','Age','FoodCourt','Spa','VRDeck','ShoppingMall']\n",
    "\n",
    "# define the model\n",
    "model1 = RandomForestRegressor()\n",
    "\n",
    "# Train with selected feature based on feature importance\n",
    "model1.fit(X_train, y_train)\n",
    "print(\"Model 1 accuracy:{:.3f}\".format(model1.score(X_train, y_train)))\n",
    "print(\"Model 1 score on prediction:{:.3f}\".format(model1.score(X_test, y_test)))\n",
    "\n",
    "model2 = DecisionTreeClassifier(random_state=1)\n",
    "model2.fit(X_train, y_train)\n",
    "print(\"Model 2 accuracy:{:.3f}\".format(model2.score(X_train, y_train)))\n",
    "print(\"Model 2 score on prediction:{:.3f}\".format(model2.score(X_test,y_test)))\n",
    "\n",
    "#DecisionTreeClassifier shows a higher accuracy- need testing for underfitting \n",
    "#model2 candidate for high bias"
   ]
  },
  {
   "cell_type": "code",
   "execution_count": 23,
   "id": "f47a1c75",
   "metadata": {
    "execution": {
     "iopub.execute_input": "2022-10-21T14:15:56.007316Z",
     "iopub.status.busy": "2022-10-21T14:15:56.006910Z",
     "iopub.status.idle": "2022-10-21T14:15:56.041157Z",
     "shell.execute_reply": "2022-10-21T14:15:56.040201Z"
    },
    "papermill": {
     "duration": 0.047462,
     "end_time": "2022-10-21T14:15:56.043562",
     "exception": false,
     "start_time": "2022-10-21T14:15:55.996100",
     "status": "completed"
    },
    "tags": []
   },
   "outputs": [],
   "source": [
    "# save predictions\n",
    "predictions = model2.predict(test)\n",
    "test_data = pd.read_csv('../input/spaceship-titanic/test.csv')\n",
    "test_id = test_data.PassengerId\n",
    "pd.DataFrame({\"PassengerId\": test_id, \"Transported\": predictions.astype(bool)}).to_csv('submission.csv', index=False)\n"
   ]
  }
 ],
 "metadata": {
  "kernelspec": {
   "display_name": "Python 3",
   "language": "python",
   "name": "python3"
  },
  "language_info": {
   "codemirror_mode": {
    "name": "ipython",
    "version": 3
   },
   "file_extension": ".py",
   "mimetype": "text/x-python",
   "name": "python",
   "nbconvert_exporter": "python",
   "pygments_lexer": "ipython3",
   "version": "3.7.12"
  },
  "papermill": {
   "default_parameters": {},
   "duration": 16.955621,
   "end_time": "2022-10-21T14:15:56.774533",
   "environment_variables": {},
   "exception": null,
   "input_path": "__notebook__.ipynb",
   "output_path": "__notebook__.ipynb",
   "parameters": {},
   "start_time": "2022-10-21T14:15:39.818912",
   "version": "2.3.4"
  }
 },
 "nbformat": 4,
 "nbformat_minor": 5
}
